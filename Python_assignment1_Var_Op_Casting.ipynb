{
 "cells": [
  {
   "cell_type": "markdown",
   "id": "e5fa5a05-af24-4e32-942b-783c15e49168",
   "metadata": {},
   "source": [
    "### 1. Understanding Variables\n",
    "\n",
    "#### a) Define a variable in Python\n",
    "A variable is a named location in memory that stores a value. Variables act as containers for storing values.\n",
    "\n",
    "**Example:**\n",
    "\n",
    "name = \"Prasan\"\n",
    "\n",
    "#### b) Difference between a variable and a constant\n",
    "**Variable**: A variable is a container whose value can change during program execution.\n",
    "\n",
    "**Constant**: A constant is a fixed value that does not change during the execution of a program.\n",
    "\n",
    "By default, Python does not have constants, but we can use constants like PI using uppercase, but it does not support immutability. so it again counts as variable.\n"
   ]
  },
  {
   "cell_type": "code",
   "execution_count": null,
   "id": "97543709-a33f-4561-a6de-f2db7f6f1dd1",
   "metadata": {},
   "outputs": [],
   "source": []
  },
  {
   "cell_type": "markdown",
   "id": "0881c042-2bcf-4fbe-bd64-210df7f4334e",
   "metadata": {},
   "source": [
    "### 2. Working with Different Data Types"
   ]
  },
  {
   "cell_type": "code",
   "execution_count": 2,
   "id": "6b619180-d1ba-49ec-8bba-6155b95e7652",
   "metadata": {},
   "outputs": [
    {
     "data": {
      "text/plain": [
       "int"
      ]
     },
     "execution_count": 2,
     "metadata": {},
     "output_type": "execute_result"
    }
   ],
   "source": [
    "# Integer:\n",
    "number = 12\n",
    "type(number)"
   ]
  },
  {
   "cell_type": "code",
   "execution_count": 3,
   "id": "abc05017-732a-4317-af12-8b35cf12e05f",
   "metadata": {},
   "outputs": [
    {
     "data": {
      "text/plain": [
       "float"
      ]
     },
     "execution_count": 3,
     "metadata": {},
     "output_type": "execute_result"
    }
   ],
   "source": [
    "# Float:\n",
    "float_number = 23.14\n",
    "type(float_number)"
   ]
  },
  {
   "cell_type": "code",
   "execution_count": 6,
   "id": "ffa8d036-8d76-4e6f-b2b2-1a0a0074b8f8",
   "metadata": {},
   "outputs": [
    {
     "data": {
      "text/plain": [
       "str"
      ]
     },
     "execution_count": 6,
     "metadata": {},
     "output_type": "execute_result"
    }
   ],
   "source": [
    "# string:\n",
    "name = \"Prasan\"\n",
    "type(name)"
   ]
  },
  {
   "cell_type": "code",
   "execution_count": 8,
   "id": "b48f9391-b5ea-4cc8-bd5b-7746d0759e5c",
   "metadata": {},
   "outputs": [
    {
     "data": {
      "text/plain": [
       "bool"
      ]
     },
     "execution_count": 8,
     "metadata": {},
     "output_type": "execute_result"
    }
   ],
   "source": [
    "# Boolean:\n",
    "is_present = True\n",
    "type(is_present)"
   ]
  },
  {
   "cell_type": "code",
   "execution_count": null,
   "id": "562793f8-011c-499b-9a39-b41bea81a074",
   "metadata": {},
   "outputs": [],
   "source": []
  },
  {
   "cell_type": "markdown",
   "id": "dc19cd3a-6b27-4828-8692-656d327e71fe",
   "metadata": {},
   "source": [
    "### 3. Arithmetic Operators\n",
    "\n",
    "Arithmetic operators in Python are used to perform basic mathematical operations.\n",
    "\n",
    "#### a) Explanation of Arithmetic Operators with Examples:\n"
   ]
  },
  {
   "cell_type": "markdown",
   "id": "2fe7b643-e1c9-48ea-be30-db4ff34a1e11",
   "metadata": {},
   "source": [
    "#### 1. Addition (`+`) :\n",
    "Adds the numbers\n",
    "\n",
    "**example**"
   ]
  },
  {
   "cell_type": "code",
   "execution_count": 21,
   "id": "b9ebaab6-0f24-428c-93ec-82ce9d9fe879",
   "metadata": {},
   "outputs": [
    {
     "name": "stdout",
     "output_type": "stream",
     "text": [
      "9\n"
     ]
    }
   ],
   "source": [
    "a = 5\n",
    "b = 3\n",
    "c = 1\n",
    "print(a+b+c)"
   ]
  },
  {
   "cell_type": "markdown",
   "id": "cca6bb2f-b8c9-41ca-9eef-16726cf53f49",
   "metadata": {},
   "source": [
    "#### 2. Subtraction (`-`):\n",
    "Substracts the numbers\n",
    "\n",
    "**example**"
   ]
  },
  {
   "cell_type": "code",
   "execution_count": 23,
   "id": "ec03a180-d300-458a-8de3-2b795428a7bd",
   "metadata": {},
   "outputs": [
    {
     "name": "stdout",
     "output_type": "stream",
     "text": [
      "1\n"
     ]
    }
   ],
   "source": [
    "a = 5\n",
    "b = 3\n",
    "c = 1\n",
    "print(a-b-c)"
   ]
  },
  {
   "cell_type": "markdown",
   "id": "f3114600-29c9-4d1a-99e1-60a3d6aebc40",
   "metadata": {},
   "source": [
    "#### 3. Multiplication (`*`) :\n",
    "Multiplies the numbers\n",
    "\n",
    "**example**"
   ]
  },
  {
   "cell_type": "code",
   "execution_count": 24,
   "id": "8fee13d7-4325-4606-b1da-3485a613cac1",
   "metadata": {},
   "outputs": [
    {
     "name": "stdout",
     "output_type": "stream",
     "text": [
      "15\n"
     ]
    }
   ],
   "source": [
    "a = 5\n",
    "b = 3\n",
    "print(a*b)"
   ]
  },
  {
   "cell_type": "markdown",
   "id": "a9b3343d-affb-411c-b49f-67afe6fc1ef9",
   "metadata": {},
   "source": [
    "#### 4.Division (`/`):\n",
    "Divides the first number by the second and returns a floating-point result.\n",
    "\n",
    "**example**"
   ]
  },
  {
   "cell_type": "code",
   "execution_count": 28,
   "id": "579f89b2-26a1-4cb7-8ecf-93344f55e81f",
   "metadata": {},
   "outputs": [
    {
     "name": "stdout",
     "output_type": "stream",
     "text": [
      "1.6666666666666667\n"
     ]
    }
   ],
   "source": [
    "a = 5\n",
    "b = 3\n",
    "print(a/b)"
   ]
  },
  {
   "cell_type": "markdown",
   "id": "eb65ced5-da25-4ed4-82e3-6cc7c239ba76",
   "metadata": {},
   "source": [
    "#### 5.Floor Division (`//`):\n",
    "Floor division in Python is performed using the // operator. It divides two numbers and rounds the result down to the nearest whole number (integer). \n",
    "\n",
    "**example**"
   ]
  },
  {
   "cell_type": "code",
   "execution_count": 29,
   "id": "352184e1-006b-4642-b7bc-490875db782a",
   "metadata": {},
   "outputs": [
    {
     "name": "stdout",
     "output_type": "stream",
     "text": [
      "1\n"
     ]
    }
   ],
   "source": [
    "a = 5\n",
    "b = 3\n",
    "print(a//b)"
   ]
  },
  {
   "cell_type": "markdown",
   "id": "e664aa19-cd7f-405e-98e0-cb5fc326a7b2",
   "metadata": {},
   "source": [
    "#### 6.Modulus (`%`):\n",
    "Returns the remainder of the division of two numbers.\n",
    "\n",
    "**example**"
   ]
  },
  {
   "cell_type": "code",
   "execution_count": 33,
   "id": "35414b5b-645e-4d63-9167-7f0a56f86d25",
   "metadata": {},
   "outputs": [
    {
     "name": "stdout",
     "output_type": "stream",
     "text": [
      "2\n"
     ]
    }
   ],
   "source": [
    "a = 5\n",
    "b = 3\n",
    "print(5 % 3)"
   ]
  },
  {
   "cell_type": "markdown",
   "id": "284a59fa-5ba0-4420-904f-8fe059bd4b26",
   "metadata": {},
   "source": [
    "#### 7.Exponentiation (`**`):\n",
    "Raises the first number to the power of the second.\n",
    "\n",
    "**example**"
   ]
  },
  {
   "cell_type": "code",
   "execution_count": 34,
   "id": "8faaa102-0810-47a0-be42-9ddf1903e047",
   "metadata": {},
   "outputs": [
    {
     "name": "stdout",
     "output_type": "stream",
     "text": [
      "125\n"
     ]
    }
   ],
   "source": [
    "a = 5\n",
    "b = 3\n",
    "print(5 ** 3)"
   ]
  },
  {
   "cell_type": "code",
   "execution_count": null,
   "id": "04214dba-2767-470d-a2c7-c755b1a18c8a",
   "metadata": {},
   "outputs": [],
   "source": []
  },
  {
   "cell_type": "markdown",
   "id": "4216cd9b-dbf2-4201-9057-2fddd0bfa050",
   "metadata": {},
   "source": [
    "#### b. Write a Python script to calculate the area of a rectangle using variables `length` and `width` with values 5 and 10, respectively. Use the multiplication operator."
   ]
  },
  {
   "cell_type": "code",
   "execution_count": 38,
   "id": "84f72d62-f99e-40f4-92ce-63d4022287c9",
   "metadata": {},
   "outputs": [
    {
     "name": "stdout",
     "output_type": "stream",
     "text": [
      "The area of rectangle is: 50\n"
     ]
    }
   ],
   "source": [
    "length = 5\n",
    "width = 10\n",
    "\n",
    "def area_rect(length, width):\n",
    "    result = length * width\n",
    "    return result\n",
    "    \n",
    "print(\"The area of rectangle is:\", area_rect(length, width))"
   ]
  },
  {
   "cell_type": "code",
   "execution_count": null,
   "id": "faaf5f86-261b-47e1-bb80-8add153c0a48",
   "metadata": {},
   "outputs": [],
   "source": []
  },
  {
   "cell_type": "markdown",
   "id": "b8b49e36-114d-47c8-a927-d3e4f00520df",
   "metadata": {},
   "source": [
    "### 4. Comparison and Logical Operators"
   ]
  },
  {
   "cell_type": "markdown",
   "id": "ed995437-61ef-47ca-bf60-e6fbfc50e8ca",
   "metadata": {},
   "source": [
    "#### 1. Equal to (`==`)\n",
    "Checks if two values are equal.\n",
    "\n",
    "**Example**"
   ]
  },
  {
   "cell_type": "code",
   "execution_count": 7,
   "id": "1dce5997-f9e4-4d3f-9b27-f635ec7ed3b9",
   "metadata": {},
   "outputs": [
    {
     "name": "stdout",
     "output_type": "stream",
     "text": [
      "True\n"
     ]
    }
   ],
   "source": [
    "x = 10\n",
    "y = 10\n",
    "\n",
    "print(x==y)"
   ]
  },
  {
   "cell_type": "markdown",
   "id": "022fb59c-115e-448a-be72-1b68ef582bca",
   "metadata": {},
   "source": [
    "#### 2. Not equal to (`!=`)\n",
    "\n",
    "Checks if two values are not equal.\n",
    "\n",
    "**Example**"
   ]
  },
  {
   "cell_type": "code",
   "execution_count": 11,
   "id": "a59b9d35-5266-4412-8c29-28b05eec2eb8",
   "metadata": {},
   "outputs": [
    {
     "name": "stdout",
     "output_type": "stream",
     "text": [
      "False\n"
     ]
    }
   ],
   "source": [
    "x = 10\n",
    "y = 10\n",
    "\n",
    "print(x!=y)"
   ]
  },
  {
   "cell_type": "markdown",
   "id": "8a8597e1-b5d0-4767-9187-43af2289021d",
   "metadata": {},
   "source": [
    "#### 3. Greater than (`>`)\n",
    "\n",
    "Checks if the left value is greater than the right value.\n",
    "\n",
    "**Example**"
   ]
  },
  {
   "cell_type": "code",
   "execution_count": 19,
   "id": "6c695cfa-9e62-4a96-a885-b885cfbd5afc",
   "metadata": {},
   "outputs": [
    {
     "name": "stdout",
     "output_type": "stream",
     "text": [
      "False\n"
     ]
    }
   ],
   "source": [
    "x = 10\n",
    "y = 15\n",
    "\n",
    "print(x>y)"
   ]
  },
  {
   "cell_type": "markdown",
   "id": "3c94703a-6114-461d-9714-85d84f8c6a64",
   "metadata": {},
   "source": [
    "#### 4. Less than (`<`)\n",
    "\n",
    "Checks if the left value is greater than the right value.\n",
    "\n",
    "**Example**"
   ]
  },
  {
   "cell_type": "code",
   "execution_count": 34,
   "id": "d3809a07-17a4-499f-bac9-bea79e509a5c",
   "metadata": {},
   "outputs": [
    {
     "name": "stdout",
     "output_type": "stream",
     "text": [
      "True\n"
     ]
    }
   ],
   "source": [
    "x = 10\n",
    "y = 15\n",
    "\n",
    "print(x<y)"
   ]
  },
  {
   "cell_type": "markdown",
   "id": "7a9e2518-59f6-465d-9b1b-542c780c50a3",
   "metadata": {},
   "source": [
    "#### 5. Greater than or equal to (`>=`)\n",
    "\n",
    "Checks if the left value is greater than or equal to the right value.\n",
    "\n",
    "**Example**"
   ]
  },
  {
   "cell_type": "code",
   "execution_count": 25,
   "id": "891e29c5-a9d9-4c37-9dfa-c144f2cc138c",
   "metadata": {},
   "outputs": [
    {
     "name": "stdout",
     "output_type": "stream",
     "text": [
      "True\n"
     ]
    }
   ],
   "source": [
    "x = 10\n",
    "y = 10\n",
    "\n",
    "print(x >= y) "
   ]
  },
  {
   "cell_type": "markdown",
   "id": "8eb27b06-2545-4454-8b67-887c8cebbed5",
   "metadata": {},
   "source": [
    "#### 6. Less than or equal to (`<=`)\n",
    "\n",
    "Checks if the left value is greater than or equal to the right value.\n",
    "\n",
    "**Example**\n",
    "\n"
   ]
  },
  {
   "cell_type": "code",
   "execution_count": 29,
   "id": "53aa4fc5-e1ea-41b7-94fe-f9bcb2331a98",
   "metadata": {},
   "outputs": [
    {
     "name": "stdout",
     "output_type": "stream",
     "text": [
      "True\n"
     ]
    }
   ],
   "source": [
    "x = 10\n",
    "y = 19\n",
    "\n",
    "print(x <= y) "
   ]
  },
  {
   "cell_type": "code",
   "execution_count": null,
   "id": "66daf2d9-fc95-475a-b61a-fe52517c428d",
   "metadata": {},
   "outputs": [],
   "source": []
  },
  {
   "cell_type": "markdown",
   "id": "f0fb9b0e-d94c-43d1-95a1-2ce761837fd6",
   "metadata": {},
   "source": [
    "#### b. Using logical operators (`and`, `or`, `not`), write a Python script that checks if a number is positive and even."
   ]
  },
  {
   "cell_type": "code",
   "execution_count": 55,
   "id": "58ea844d-0812-438f-a506-9d1e03fdb29e",
   "metadata": {},
   "outputs": [
    {
     "name": "stdin",
     "output_type": "stream",
     "text": [
      "Enter the number: 12\n"
     ]
    },
    {
     "name": "stdout",
     "output_type": "stream",
     "text": [
      "The 12 is  positive and Even\n"
     ]
    }
   ],
   "source": [
    "def check_no_positive_even(num):\n",
    "    if num > 0 and num%2 == 0:\n",
    "        print(f\"The {num} is  positive and Even\")\n",
    "    else:\n",
    "        print(f\"The {num} is not positive and  not Even\")\n",
    "\n",
    "num = int(input(\"Enter the number:\"))\n",
    "check_no_positive_even(num)"
   ]
  },
  {
   "cell_type": "code",
   "execution_count": null,
   "id": "1d68a03d-4118-4a8b-9990-f66832e829e1",
   "metadata": {},
   "outputs": [],
   "source": []
  },
  {
   "cell_type": "markdown",
   "id": "95ab262f-b0a5-49dc-b9f4-0c159bf1c5fb",
   "metadata": {},
   "source": [
    "### 5. Type Casting in Python\n",
    "\n",
    "#### a. What is Type Casting?\n",
    "Type casting is the process of converting one data type into another. It can be categorized into two types:\n",
    "1. **Implicit Type Casting**: Automatically performed by Python.\n",
    "2. **Explicit Type Casting**: Performed manually by the programmer using built-in functions.\n",
    "\n",
    "\n",
    "### Difference Between Implicit and Explicit Type Casting\n",
    "\n",
    "#### **1. Implicit Type Casting**\n",
    "Python automatically converts a smaller data type to a larger data type to prevent data loss.\n",
    "\n",
    "**Example**:\n"
   ]
  },
  {
   "cell_type": "code",
   "execution_count": 63,
   "id": "445bcedf-305e-4104-b0c0-eb30d85a401f",
   "metadata": {},
   "outputs": [
    {
     "name": "stdout",
     "output_type": "stream",
     "text": [
      "12.5\n",
      "<class 'float'>\n"
     ]
    }
   ],
   "source": [
    "int_val = 10\n",
    "float_val = 2.5\n",
    "result = int_val + float_val  \n",
    "print(result)\n",
    "print(type(result))"
   ]
  },
  {
   "cell_type": "markdown",
   "id": "1ea8664e-639b-4135-a07c-f2661cebcf9f",
   "metadata": {},
   "source": [
    "#### **2. Explicit Type Casting**\n",
    "The programmer explicitly converts one data type into another using functions like int(), float(), str(), etc.\n",
    "\n",
    "**Example**:"
   ]
  },
  {
   "cell_type": "code",
   "execution_count": 67,
   "id": "f049c7bd-7b6c-47af-a1dc-04f0147034c0",
   "metadata": {},
   "outputs": [
    {
     "name": "stdout",
     "output_type": "stream",
     "text": [
      "25\n",
      "<class 'int'>\n"
     ]
    }
   ],
   "source": [
    "string_num = \"25\"\n",
    "integer_num = int(string_num)  \n",
    "print(integer_num) \n",
    "print(type(integer_num)) "
   ]
  },
  {
   "cell_type": "markdown",
   "id": "d8d9c8c8-35e5-4e24-9491-14aaad890f1b",
   "metadata": {},
   "source": [
    "#### b. Python Script for Type Conversion\n",
    "\n",
    "#### 1. Converts a Float to an Integer"
   ]
  },
  {
   "cell_type": "code",
   "execution_count": 71,
   "id": "8ef4edba-b2bd-485b-a12a-d185ec9c878c",
   "metadata": {},
   "outputs": [
    {
     "name": "stdout",
     "output_type": "stream",
     "text": [
      "Float 15.8 converted to Integer: 15\n"
     ]
    }
   ],
   "source": [
    "float_num = 15.8\n",
    "int_num = int(float_num) \n",
    "print(f\"Float {float_num} converted to Integer: {int_num}\")\n"
   ]
  },
  {
   "cell_type": "markdown",
   "id": "2f7c340d-9091-4988-a583-22b598474c00",
   "metadata": {},
   "source": [
    "#### 2. Converts an Integer to a String"
   ]
  },
  {
   "cell_type": "code",
   "execution_count": 75,
   "id": "00e010fc-21d0-49f3-8ff0-99d628d97bcd",
   "metadata": {},
   "outputs": [
    {
     "name": "stdout",
     "output_type": "stream",
     "text": [
      "Integer 42 converted to String: '42'\n"
     ]
    }
   ],
   "source": [
    "int_num = 42\n",
    "str_num = str(int_num)  \n",
    "print(f\"Integer {int_num} converted to String: '{str_num}'\")\n"
   ]
  },
  {
   "cell_type": "markdown",
   "id": "435c104f-fab3-48e4-a52d-b976e987693a",
   "metadata": {},
   "source": [
    "#### 3. Converts a String to a Float"
   ]
  },
  {
   "cell_type": "code",
   "execution_count": 82,
   "id": "9979d261-10ab-4b8b-a90f-9bbf69ffbddc",
   "metadata": {},
   "outputs": [
    {
     "name": "stdout",
     "output_type": "stream",
     "text": [
      "String '3.14' converted to Float: 3.14\n"
     ]
    }
   ],
   "source": [
    "str_num = \"3.14\"\n",
    "float_num = float(str_num)  \n",
    "print(f\"String '{str_num}' converted to Float: {float_num}\")\n"
   ]
  },
  {
   "cell_type": "code",
   "execution_count": null,
   "id": "96919e06-1746-46ce-a50d-84b3d6b7bdee",
   "metadata": {},
   "outputs": [],
   "source": []
  },
  {
   "cell_type": "markdown",
   "id": "3fb34d28-ee92-49ec-b7f7-d1581aab9f64",
   "metadata": {},
   "source": [
    "### 6. Practical Exercise: Mini Calculator\n",
    "\n",
    "#### Problem Statement\n",
    "Write a Python script that performs the following operations:\n",
    "\n",
    "1. **Addition**: Adds two numbers and prints the result.\n",
    "2. **Subtraction**: Subtracts the second number from the first and prints the result.\n",
    "3. **Multiplication**: Multiplies the two numbers and prints the result.\n",
    "4. **Division**: Divides the first number by the second and prints the result (handle division by zero).\n",
    "5. **Type Conversion**: Converts the sum of the numbers to a string and prints the type of the result.\n"
   ]
  },
  {
   "cell_type": "code",
   "execution_count": 90,
   "id": "7a435874-663b-4086-a44e-4a300249e414",
   "metadata": {},
   "outputs": [
    {
     "name": "stdin",
     "output_type": "stream",
     "text": [
      "Enter the first number:  11\n",
      "Enter the second number:  2\n"
     ]
    },
    {
     "name": "stdout",
     "output_type": "stream",
     "text": [
      "Addition: 11.0 + 2.0 = 13.0\n",
      "Subtraction: 11.0 - 2.0 = 9.0\n",
      "Multiplication: 11.0 * 2.0 = 22.0\n",
      "Division: 11.0 / 2.0 = 5.5\n",
      "The sum converted to string: '13.0' (Type: <class 'str'>)\n"
     ]
    }
   ],
   "source": [
    "# Python Script for Mini calculator\n",
    "\n",
    "\n",
    "# Input: Ask the user to input two numbers\n",
    "num1 = float(input(\"Enter the first number: \"))\n",
    "num2 = float(input(\"Enter the second number: \"))\n",
    "\n",
    "# 1. Addition\n",
    "sum_result = num1 + num2\n",
    "print(f\"Addition: {num1} + {num2} = {sum_result}\")\n",
    "\n",
    "# 2. Subtraction\n",
    "sub_result = num1 - num2\n",
    "print(f\"Subtraction: {num1} - {num2} = {sub_result}\")\n",
    "\n",
    "# 3. Multiplication\n",
    "mul_result = num1 * num2\n",
    "print(f\"Multiplication: {num1} * {num2} = {mul_result}\")\n",
    "\n",
    "# 4. Division (handle division by zero)\n",
    "if num2 != 0:\n",
    "    div_result = num1 / num2\n",
    "    print(f\"Division: {num1} / {num2} = {div_result}\")\n",
    "else:\n",
    "    print(\"Division by zero is not allowed.\")\n",
    "\n",
    "# 5. Type Conversion: Convert sum to a string and print the type\n",
    "sum_as_string = str(sum_result)\n",
    "print(f\"The sum converted to string: '{sum_as_string}' (Type: {type(sum_as_string)})\")\n"
   ]
  },
  {
   "cell_type": "code",
   "execution_count": null,
   "id": "b40deac2-c745-4e8c-b2de-3b80d4477a9c",
   "metadata": {},
   "outputs": [],
   "source": []
  }
 ],
 "metadata": {
  "kernelspec": {
   "display_name": "Python 3 (ipykernel)",
   "language": "python",
   "name": "python3"
  },
  "language_info": {
   "codemirror_mode": {
    "name": "ipython",
    "version": 3
   },
   "file_extension": ".py",
   "mimetype": "text/x-python",
   "name": "python",
   "nbconvert_exporter": "python",
   "pygments_lexer": "ipython3",
   "version": "3.12.7"
  }
 },
 "nbformat": 4,
 "nbformat_minor": 5
}
